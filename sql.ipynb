{
 "cells": [
  {
   "cell_type": "code",
   "execution_count": 1,
   "metadata": {},
   "outputs": [],
   "source": [
    "from langchain_google_genai import GoogleGenerativeAI\n",
    "import os\n",
    "from dotenv import load_dotenv\n",
    "load_dotenv()\n",
    "from langchain_community.utilities import SQLDatabase\n",
    "\n",
    "api_key  = os.getenv('GOOGLE_API_KEY')\n"
   ]
  },
  {
   "cell_type": "code",
   "execution_count": 2,
   "metadata": {},
   "outputs": [
    {
     "name": "stdout",
     "output_type": "stream",
     "text": [
      "sovereign state\n"
     ]
    }
   ],
   "source": [
    "llm = GoogleGenerativeAI(model=\"models/text-bison-001\", google_api_key=api_key)\n",
    "print(\n",
    "    llm.invoke(\n",
    "        \"India is a?\"\n",
    "    )\n",
    ")"
   ]
  },
  {
   "cell_type": "code",
   "execution_count": 5,
   "metadata": {},
   "outputs": [
    {
     "name": "stdout",
     "output_type": "stream",
     "text": [
      "\n",
      "CREATE TABLE city (\n",
      "\t`ID` INTEGER NOT NULL AUTO_INCREMENT, \n",
      "\t`Name` CHAR(35) NOT NULL DEFAULT '', \n",
      "\t`CountryCode` CHAR(3) NOT NULL DEFAULT '', \n",
      "\t`District` CHAR(20) NOT NULL DEFAULT '', \n",
      "\t`Population` INTEGER NOT NULL DEFAULT '0', \n",
      "\tPRIMARY KEY (`ID`), \n",
      "\tCONSTRAINT city_ibfk_1 FOREIGN KEY(`CountryCode`) REFERENCES country (`Code`)\n",
      ")ENGINE=InnoDB DEFAULT CHARSET=utf8mb4 COLLATE utf8mb4_0900_ai_ci\n",
      "\n",
      "/*\n",
      "3 rows from city table:\n",
      "ID\tName\tCountryCode\tDistrict\tPopulation\n",
      "1\tKabul\tAFG\tKabol\t1780000\n",
      "2\tQandahar\tAFG\tQandahar\t237500\n",
      "3\tHerat\tAFG\tHerat\t186800\n",
      "*/\n",
      "\n",
      "\n",
      "CREATE TABLE country (\n",
      "\t`Code` CHAR(3) NOT NULL DEFAULT '', \n",
      "\t`Name` CHAR(52) NOT NULL DEFAULT '', \n",
      "\t`Continent` ENUM('Asia','Europe','North America','Africa','Oceania','Antarctica','South America') NOT NULL DEFAULT 'Asia', \n",
      "\t`Region` CHAR(26) NOT NULL DEFAULT '', \n",
      "\t`SurfaceArea` DECIMAL(10, 2) NOT NULL DEFAULT '0.00', \n",
      "\t`IndepYear` SMALLINT, \n",
      "\t`Population` INTEGER NOT NULL DEFAULT '0', \n",
      "\t`LifeExpectancy` DECIMAL(3, 1), \n",
      "\t`GNP` DECIMAL(10, 2), \n",
      "\t`GNPOld` DECIMAL(10, 2), \n",
      "\t`LocalName` CHAR(45) NOT NULL DEFAULT '', \n",
      "\t`GovernmentForm` CHAR(45) NOT NULL DEFAULT '', \n",
      "\t`HeadOfState` CHAR(60), \n",
      "\t`Capital` INTEGER, \n",
      "\t`Code2` CHAR(2) NOT NULL DEFAULT '', \n",
      "\tPRIMARY KEY (`Code`)\n",
      ")ENGINE=InnoDB DEFAULT CHARSET=utf8mb4 COLLATE utf8mb4_0900_ai_ci\n",
      "\n",
      "/*\n",
      "3 rows from country table:\n",
      "Code\tName\tContinent\tRegion\tSurfaceArea\tIndepYear\tPopulation\tLifeExpectancy\tGNP\tGNPOld\tLocalName\tGovernmentForm\tHeadOfState\tCapital\tCode2\n",
      "ABW\tAruba\tNorth America\tCaribbean\t193.00\tNone\t103000\t78.4\t828.00\t793.00\tAruba\tNonmetropolitan Territory of The Netherlands\tBeatrix\t129\tAW\n",
      "AFG\tAfghanistan\tAsia\tSouthern and Central Asia\t652090.00\t1919\t22720000\t45.9\t5976.00\tNone\tAfganistan/Afqanestan\tIslamic Emirate\tMohammad Omar\t1\tAF\n",
      "AGO\tAngola\tAfrica\tCentral Africa\t1246700.00\t1975\t12878000\t38.3\t6648.00\t7984.00\tAngola\tRepublic\tJosé Eduardo dos Santos\t56\tAO\n",
      "*/\n",
      "\n",
      "\n",
      "CREATE TABLE countrylanguage (\n",
      "\t`CountryCode` CHAR(3) NOT NULL DEFAULT '', \n",
      "\t`Language` CHAR(30) NOT NULL DEFAULT '', \n",
      "\t`IsOfficial` ENUM('T','F') NOT NULL DEFAULT 'F', \n",
      "\t`Percentage` DECIMAL(4, 1) NOT NULL DEFAULT '0.0', \n",
      "\tPRIMARY KEY (`CountryCode`, `Language`), \n",
      "\tCONSTRAINT `countryLanguage_ibfk_1` FOREIGN KEY(`CountryCode`) REFERENCES country (`Code`)\n",
      ")ENGINE=InnoDB DEFAULT CHARSET=utf8mb4 COLLATE utf8mb4_0900_ai_ci\n",
      "\n",
      "/*\n",
      "3 rows from countrylanguage table:\n",
      "CountryCode\tLanguage\tIsOfficial\tPercentage\n",
      "ABW\tDutch\tT\t5.3\n",
      "ABW\tEnglish\tF\t9.5\n",
      "ABW\tPapiamento\tF\t76.7\n",
      "*/\n"
     ]
    }
   ],
   "source": [
    "db_user=\"root\"\n",
    "db_password=\"12345\"\n",
    "db_host=\"localhost\"\n",
    "db_name=\"world\"\n",
    "db = SQLDatabase.from_uri(f\"mysql+pymysql://{db_user}:{db_password}@{db_host}/{db_name}\",sample_rows_in_table_info = 3)\n",
    "print(db.table_info)"
   ]
  },
  {
   "cell_type": "code",
   "execution_count": 13,
   "metadata": {},
   "outputs": [
    {
     "data": {
      "text/plain": [
       "\"[('Aruba', 103000), ('Anguilla', 8000), ('Andorra', 78000), ('Argentina', 37032000), ('American Samoa', 68000), ('Australia', 18886000), ('Austria', 8091800), ('Belgium', 10239000), ('Bermuda', 65000), ('Canada', 31147000), ('Switzerland', 7160400), ('Chile', 15211000), ('Costa Rica', 4023000), ('Cuba', 11201000), ('Cayman Islands', 38000), ('Cyprus', 754700), ('Germany', 82164700), ('Denmark', 5330000), ('Spain', 39441700), ('Finland', 5171300), ('France', 59225700), ('Faroe Islands', 43000), ('United Kingdom', 59623400), ('Gibraltar', 25000), ('Guadeloupe', 456000), ('Greece', 10545700), ('French Guiana', 181000), ('Guam', 168000), ('Hong Kong', 6782000), ('Ireland', 3775100), ('Iceland', 279000), ('Israel', 6217000), ('Italy', 57680000), ('Jamaica', 2583000), ('Jordan', 5083000), ('Japan', 126714000), ('Kuwait', 1972000), ('Libyan Arab Jamahiriya', 5605000), ('Liechtenstein', 32300), ('Luxembourg', 435700), ('Macao', 473000), ('Monaco', 34000), ('Malta', 380200), ('Northern Mariana Islands', 78000), ('Montserrat', 11000), ('Martinique', 395000), ('Netherlands', 15864000), ('Norway', 4478500), ('New Zealand', 3862000), ('Panama', 2856000), ('Puerto Rico', 3869000), ('Portugal', 9997600), ('Singapore', 3567000), ('Saint Helena', 6000), ('San Marino', 27000), ('Saint Pierre and Miquelon', 7000), ('Sweden', 8861400), ('Taiwan', 22256000), ('Uruguay', 3337000), ('United States', 278357000), ('Virgin Islands, British', 21000), ('Virgin Islands, U.S.', 93000)]\""
      ]
     },
     "execution_count": 13,
     "metadata": {},
     "output_type": "execute_result"
    }
   ],
   "source": [
    "from langchain.chains import create_sql_query_chain\n",
    "sql_chain = create_sql_query_chain(llm, db)\n",
    "resp=sql_chain.invoke({\"question\":\"how many countries have the Life Expectancy  greater than 75 give me list of countries names with their population count?\"})\n",
    "resp\n",
    "new_ans=db.run(\"SELECT Name, Population FROM world.country WHERE LifeExpectancy > 75\")\n",
    "new_ans"
   ]
  },
  {
   "cell_type": "code",
   "execution_count": 17,
   "metadata": {},
   "outputs": [],
   "source": [
    "## Few Shot Learning:\n",
    "\n",
    "few_shot=[\n",
    "    {\n",
    "        'Question':\"how many countries have the Life Expectancy  greater than 75 give me list of countries names with their population count?\",\n",
    "        'SQLQuery':\"SELECT Name, Population FROM world.country WHERE LifeExpectancy > 75\",\n",
    "        'SQLResult':\"Result of SQL Query\",\n",
    "        \"Answer\":new_ans\n",
    "        \n",
    "    }\n",
    "]"
   ]
  }
 ],
 "metadata": {
  "kernelspec": {
   "display_name": "Python 3",
   "language": "python",
   "name": "python3"
  },
  "language_info": {
   "codemirror_mode": {
    "name": "ipython",
    "version": 3
   },
   "file_extension": ".py",
   "mimetype": "text/x-python",
   "name": "python",
   "nbconvert_exporter": "python",
   "pygments_lexer": "ipython3",
   "version": "3.12.2"
  }
 },
 "nbformat": 4,
 "nbformat_minor": 2
}
